{
 "cells": [
  {
   "cell_type": "markdown",
   "id": "6d7e472d-7bf3-4fdc-880f-8060d3630eb6",
   "metadata": {},
   "source": [
    "#### **Imaginary university Python Exercise**.\n",
    "**Input Part**"
   ]
  },
  {
   "cell_type": "code",
   "execution_count": null,
   "id": "7f1551c3-1b6f-4b7b-800f-bd9f2be9709d",
   "metadata": {},
   "outputs": [],
   "source": [
    "### first input line partition: \n",
    "\n",
    "#entrances number input:\n",
    "number =  True\n",
    "while number == True:\n",
    "\n",
    "  N = int(input(\"Please enter number of  entrances:\\n\"))\n",
    "\n",
    "  if N>=1 and N<=1061: \n",
    "    number = False\n",
    "  else:\n",
    "    print(\"***You have enter wrong number, The number of entrances should be between 1 and 1061***\\n\")\n",
    "    \n",
    "\n",
    "#student number input:  \n",
    "number = True\n",
    "while number == True:\n",
    "\n",
    "  M = int(input(\"Please enter the number of students:\\n\"))\n",
    "\n",
    "  if M>=1 and M<=1031: \n",
    "    number = False\n",
    "  else:\n",
    "    print(\"***You have enter wrong number, The number of entrances should be between 1 and 1031***\\n\")\n",
    "    \n",
    "\n",
    "#guard number input:  \n",
    "number = True\n",
    "while number == True:\n",
    "\n",
    "  G = int(input(\"Please enter the number of guards:\\n\"))\n",
    "\n",
    "  if G>=1 and G<=100: \n",
    "    number = False\n",
    "  else:\n",
    "    print(\"***You have enter wrong number, The number of entrances should be between 1 and 100***\\n\")\n",
    "        \n",
    "\n",
    "#second input line partition: \n",
    "\n",
    "list_of_entrances =[]\n",
    "for i in range(M):\n",
    "    correct = True \n",
    "    while correct==True:\n",
    "          number_of_entrance = int(input(\"Please enter the number name of entrance \"))\n",
    "          if number_of_entrance<=N:\n",
    "             print(i+1,\"th student\")\n",
    "             list_of_entrances.append(number_of_entrance)\n",
    "             correct=False\n",
    "          else:\n",
    "            print('***Please try again. The number name should not be bigger than N.***\\n')"
   ]
  },
  {
   "cell_type": "code",
   "execution_count": null,
   "id": "f6107e11-e018-4b23-9921-2ba3a046cdf6",
   "metadata": {},
   "outputs": [],
   "source": [
    "print(\"The entrances number: \",N,\"/The students number: \",M,\"/The guards number: \",G,\"\\n\")\n",
    "print(\"list_of_entrances:\",list_of_entrances,\"\\n\")"
   ]
  },
  {
   "cell_type": "markdown",
   "id": "26890bf3-c1fb-4bc3-a635-78f50fbbe585",
   "metadata": {},
   "source": [
    "**Main process**"
   ]
  },
  {
   "cell_type": "code",
   "execution_count": null,
   "id": "ecdb0620-9a2e-4721-9b4c-70616bf4a60d",
   "metadata": {},
   "outputs": [],
   "source": [
    "#unique function\n",
    "def unique(list1):\n",
    " \n",
    "    # initialize a null list\n",
    "    unique_list = []\n",
    " \n",
    "    # traverse for all elements\n",
    "    for x in list1:\n",
    "        # check if exists in unique_list or not\n",
    "        if x not in unique_list:\n",
    "            unique_list.append(x)\n",
    "    # print list\n",
    "    return unique_list"
   ]
  },
  {
   "cell_type": "code",
   "execution_count": null,
   "id": "8af0ae1d-aa3d-4c1c-b4e6-439c661e4d10",
   "metadata": {},
   "outputs": [],
   "source": [
    "#finding guards\n",
    "uniq = unique(list_of_entrances)\n",
    "l = len(uniq)\n",
    "guard = 0 #number of minimal guard\n",
    "for i in range(l):\n",
    "  \n",
    "  cunter = 0\n",
    "  for j in range(M):\n",
    "      if uniq[i] == list_of_entrances[j]:\n",
    "         cunter = cunter+1\n",
    "  c = 0       \n",
    "  for j in range(M):\n",
    "    cross = False\n",
    "    \n",
    "    if uniq[i] == list_of_entrances[j]:\n",
    "      p = True\n",
    "      c = c+1\n",
    "    if p==True and uniq[i] != list_of_entrances[j] and c!=cunter: \n",
    "      cross = True\n",
    "    if cross == True and cunter>1:\n",
    "      guard = guard + 1\n",
    "      p = False\n",
    "      break"
   ]
  },
  {
   "cell_type": "markdown",
   "id": "6c0b03f5-a91c-4f0b-86db-f833346affad",
   "metadata": {},
   "source": [
    "**Output**"
   ]
  },
  {
   "cell_type": "code",
   "execution_count": null,
   "id": "77fc2dac-1555-4742-b04c-27baef1f46ea",
   "metadata": {},
   "outputs": [],
   "source": [
    "if guard<= G:\n",
    "  print(\"YES\")\n",
    "else:\n",
    "  print(\"NO\")  "
   ]
  }
 ],
 "metadata": {
  "kernelspec": {
   "display_name": "conda_python3",
   "language": "python",
   "name": "conda_python3"
  },
  "language_info": {
   "codemirror_mode": {
    "name": "ipython",
    "version": 3
   },
   "file_extension": ".py",
   "mimetype": "text/x-python",
   "name": "python",
   "nbconvert_exporter": "python",
   "pygments_lexer": "ipython3",
   "version": "3.10.6"
  }
 },
 "nbformat": 4,
 "nbformat_minor": 5
}
